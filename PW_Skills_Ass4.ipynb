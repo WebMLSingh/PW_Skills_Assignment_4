{
  "nbformat": 4,
  "nbformat_minor": 0,
  "metadata": {
    "colab": {
      "provenance": []
    },
    "kernelspec": {
      "name": "python3",
      "display_name": "Python 3"
    },
    "language_info": {
      "name": "python"
    }
  },
  "cells": [
    {
      "cell_type": "markdown",
      "source": [
        "2. Write a Python class for a `Car` with attributes for `make`, `model`, and `year`. Include a method to display the car's information."
      ],
      "metadata": {
        "id": "43WpxpoPvJRF"
      }
    },
    {
      "cell_type": "code",
      "source": [
        "class Car:\n",
        "    def __init__(self, make, model, year):\n",
        "        self.make = make\n",
        "        self.model = model\n",
        "        self.year = year\n",
        "\n",
        "    def display_info(self):\n",
        "        print(f\"Car Information: {self.year} {self.make} {self.model}\")\n",
        "\n",
        "car1 = Car(\"Toyota\", \"Camry\", 2022)\n",
        "car1.display_info()\n"
      ],
      "metadata": {
        "colab": {
          "base_uri": "https://localhost:8080/"
        },
        "id": "37no45vqvLjC",
        "outputId": "ebb61716-d9ed-47ad-9e37-c9e9efb355c8"
      },
      "execution_count": null,
      "outputs": [
        {
          "output_type": "stream",
          "name": "stdout",
          "text": [
            "Car Information: 2022 Toyota Camry\n"
          ]
        }
      ]
    },
    {
      "cell_type": "markdown",
      "source": [
        "3. Explain the difference between instance methods and class methods. Provide an example of each"
      ],
      "metadata": {
        "id": "afQoUEtTvduQ"
      }
    },
    {
      "cell_type": "code",
      "source": [
        "# Instance Methods\n",
        "class Dog:\n",
        "    def __init__(self, name):\n",
        "        self.name = name  # Instance attribute\n",
        "\n",
        "    def speak(self):  # Instance method\n",
        "        return f\"{self.name} says woof!\"\n",
        "\n",
        "# Usage\n",
        "dog1 = Dog(\"Buddy\")\n",
        "print(dog1.speak())  # Outputs: Buddy says woof!\n"
      ],
      "metadata": {
        "colab": {
          "base_uri": "https://localhost:8080/"
        },
        "id": "hlbgydrjvO20",
        "outputId": "d67d2705-93cc-408a-f757-781054d1c225"
      },
      "execution_count": null,
      "outputs": [
        {
          "output_type": "stream",
          "name": "stdout",
          "text": [
            "Buddy says woof!\n"
          ]
        }
      ]
    },
    {
      "cell_type": "code",
      "source": [
        "# Class Methods\n",
        "class Dog:\n",
        "    species = \"Canis familiaris\"  # Class attribute\n",
        "\n",
        "    @classmethod\n",
        "    def get_species(cls):  # Class method\n",
        "        return cls.species\n",
        "\n",
        "# Usage\n",
        "print(Dog.get_species())  # Outputs: Canis familiaris\n"
      ],
      "metadata": {
        "colab": {
          "base_uri": "https://localhost:8080/"
        },
        "id": "gAllOlHbvnOD",
        "outputId": "471ff983-b4c4-4e53-ce14-c12777727ef8"
      },
      "execution_count": null,
      "outputs": [
        {
          "output_type": "stream",
          "name": "stdout",
          "text": [
            "Canis familiaris\n"
          ]
        }
      ]
    },
    {
      "cell_type": "markdown",
      "source": [
        "4. How does Python implement method overloading? Give an example"
      ],
      "metadata": {
        "id": "zsP4LfkIvyXJ"
      }
    },
    {
      "cell_type": "code",
      "source": [
        "class Calculator:\n",
        "    def add(self, a, b=0, c=0):\n",
        "        return a + b + c\n",
        "\n",
        "# Usage\n",
        "calc = Calculator()\n",
        "print(calc.add(5))        # Output: 5\n",
        "print(calc.add(5, 3))     # Output: 8\n",
        "print(calc.add(5, 3, 2))  # Output: 10\n"
      ],
      "metadata": {
        "colab": {
          "base_uri": "https://localhost:8080/"
        },
        "id": "o6sjLltQv0Dq",
        "outputId": "eea8c324-92f9-4cb9-e4fd-908384f24861"
      },
      "execution_count": null,
      "outputs": [
        {
          "output_type": "stream",
          "name": "stdout",
          "text": [
            "5\n",
            "8\n",
            "10\n"
          ]
        }
      ]
    },
    {
      "cell_type": "markdown",
      "source": [
        "8. Create an abstract base class `Shape` with an abstract method `area()`. Then create two subclasses `Circle` and `Rectangle` that implement the `area()` method."
      ],
      "metadata": {
        "id": "U3mME7gxv-3q"
      }
    },
    {
      "cell_type": "code",
      "source": [
        "from abc import ABC, abstractmethod\n",
        "import math\n",
        "\n",
        "# Abstract base class\n",
        "class Shape(ABC):\n",
        "\n",
        "    @abstractmethod\n",
        "    def area(self):\n",
        "        pass\n",
        "\n",
        "# Subclass Circle implementing area()\n",
        "class Circle(Shape):\n",
        "\n",
        "    def __init__(self, radius):\n",
        "        self.radius = radius\n",
        "\n",
        "    def area(self):\n",
        "        return math.pi * self.radius ** 2\n",
        "\n",
        "# Subclass Rectangle implementing area()\n",
        "class Rectangle(Shape):\n",
        "\n",
        "    def __init__(self, width, height):\n",
        "        self.width = width\n",
        "        self.height = height\n",
        "\n",
        "    def area(self):\n",
        "        return self.width * self.height\n",
        "\n",
        "# Example usage\n",
        "circle = Circle(5)\n",
        "rectangle = Rectangle(4, 6)\n",
        "\n",
        "print(f\"Circle area: {circle.area()}\")        # Circle area: 78.53981633974483\n",
        "print(f\"Rectangle area: {rectangle.area()}\")  # Rectangle area: 24\n"
      ],
      "metadata": {
        "colab": {
          "base_uri": "https://localhost:8080/"
        },
        "id": "THaU9BXXv_bc",
        "outputId": "e8752953-46cd-44cc-f93f-d2043fdff5a8"
      },
      "execution_count": null,
      "outputs": [
        {
          "output_type": "stream",
          "name": "stdout",
          "text": [
            "Circle area: 78.53981633974483\n",
            "Rectangle area: 24\n"
          ]
        }
      ]
    },
    {
      "cell_type": "markdown",
      "source": [
        "9. Demonstrate polymorphism by creating a function that can work with different shape objects to calculate and print their areas."
      ],
      "metadata": {
        "id": "Rlg6iMWTwH9O"
      }
    },
    {
      "cell_type": "code",
      "source": [
        "from abc import ABC, abstractmethod\n",
        "import math\n",
        "\n",
        "# Abstract base class\n",
        "class Shape(ABC):\n",
        "\n",
        "    @abstractmethod\n",
        "    def area(self):\n",
        "        pass\n",
        "\n",
        "# Subclass Circle implementing area()\n",
        "class Circle(Shape):\n",
        "\n",
        "    def __init__(self, radius):\n",
        "        self.radius = radius\n",
        "\n",
        "    def area(self):\n",
        "        return math.pi * self.radius ** 2\n",
        "\n",
        "# Subclass Rectangle implementing area()\n",
        "class Rectangle(Shape):\n",
        "\n",
        "    def __init__(self, width, height):\n",
        "        self.width = width\n",
        "        self.height = height\n",
        "\n",
        "    def area(self):\n",
        "        return self.width * self.height\n",
        "\n",
        "# Function demonstrating polymorphism\n",
        "def print_area(shape: Shape):\n",
        "    print(f\"The area of the {shape.__class__.__name__} is: {shape.area()}\")\n",
        "\n",
        "# Example usage\n",
        "circle = Circle(5)\n",
        "rectangle = Rectangle(4, 6)\n",
        "\n",
        "print_area(circle)      # Output: The area of the Circle is: 78.53981633974483\n",
        "print_area(rectangle)   # Output: The area of the Rectangle is: 24\n"
      ],
      "metadata": {
        "colab": {
          "base_uri": "https://localhost:8080/"
        },
        "id": "0hrQD7oowIyu",
        "outputId": "71f52ce0-ec1e-463d-f862-484a7615a3d1"
      },
      "execution_count": null,
      "outputs": [
        {
          "output_type": "stream",
          "name": "stdout",
          "text": [
            "The area of the Circle is: 78.53981633974483\n",
            "The area of the Rectangle is: 24\n"
          ]
        }
      ]
    },
    {
      "cell_type": "markdown",
      "source": [
        "10. Implement encapsulation in a `BankAccount` class with private attributes for `balance` and `account_number`. Include methods for deposit, withdrawal, and balance inquiry."
      ],
      "metadata": {
        "id": "Hsj7A3rkwT9n"
      }
    },
    {
      "cell_type": "code",
      "source": [
        "class BankAccount:\n",
        "    def __init__(self, account_number, initial_balance=0):\n",
        "        self.__account_number = account_number  # Private attribute\n",
        "        self.__balance = initial_balance  # Private attribute\n",
        "\n",
        "    def deposit(self, amount):\n",
        "        if amount > 0:\n",
        "            self.__balance += amount\n",
        "            print(f\"Deposited: Rs {amount:.2f}. New balance: Rs {self.__balance:.2f}.\")\n",
        "        else:\n",
        "            print(\"Deposit amount must be positive.\")\n",
        "\n",
        "    def withdraw(self, amount):\n",
        "        if 0 < amount <= self.__balance:\n",
        "            self.__balance -= amount\n",
        "            print(f\"Withdrew: Rs {amount:.2f}. New balance: Rs {self.__balance:.2f}.\")\n",
        "        else:\n",
        "            print(\"Invalid withdrawal amount.\")\n",
        "\n",
        "    def get_balance(self):\n",
        "        return self.__balance  # Method to access private attribute\n",
        "\n",
        "# Example usage\n",
        "account = BankAccount(\"12345678\", 1000)\n",
        "\n",
        "account.deposit(500)         # Deposited: Rs.500.00. New balance: Rs.1500.00.\n",
        "account.withdraw(200)        # Withdrew: Rs.200.00. New balance: Rs.1300.00.\n",
        "print(f\"Current balance: ${account.get_balance():.2f}\")  # Current balance: Rs.1300.00.\n"
      ],
      "metadata": {
        "colab": {
          "base_uri": "https://localhost:8080/"
        },
        "id": "s_a-83jpwMWi",
        "outputId": "a46e4537-29ec-4acf-f55b-78abd700a9b2"
      },
      "execution_count": null,
      "outputs": [
        {
          "output_type": "stream",
          "name": "stdout",
          "text": [
            "Deposited: Rs 500.00. New balance: Rs 1500.00.\n",
            "Withdrew: Rs 200.00. New balance: Rs 1300.00.\n",
            "Current balance: $1300.00\n"
          ]
        }
      ]
    },
    {
      "cell_type": "markdown",
      "source": [
        "11. Write a class that overrides the `__str__` and `__add__` magic methods. What will these methods allow you to do?"
      ],
      "metadata": {
        "id": "Jz2CKbXmwuPh"
      }
    },
    {
      "cell_type": "code",
      "source": [
        "class Point:\n",
        "    def __init__(self, x, y):\n",
        "        self.x = x\n",
        "        self.y = y\n",
        "\n",
        "    def __str__(self):\n",
        "        return f\"Point({self.x}, {self.y})\"  # User-friendly string representation\n",
        "\n",
        "    def __add__(self, other):\n",
        "        if isinstance(other, Point):\n",
        "            return Point(self.x + other.x, self.y + other.y)  # Adding coordinates\n",
        "        return NotImplemented  # For unsupported types\n",
        "\n",
        "# Example usage\n",
        "point1 = Point(2, 3)\n",
        "point2 = Point(4, 5)\n",
        "\n",
        "# Using __str__\n",
        "print(point1)  # Output: Point(2, 3)\n",
        "print(point2)  # Output: Point(4, 5)\n",
        "\n",
        "# Using __add__\n",
        "point3 = point1 + point2\n",
        "print(point3)  # Output: Point(6, 8)\n"
      ],
      "metadata": {
        "colab": {
          "base_uri": "https://localhost:8080/"
        },
        "id": "Z9q3teb7wUyV",
        "outputId": "0440f2c2-92bf-4956-8556-d2c0d263b5f1"
      },
      "execution_count": null,
      "outputs": [
        {
          "output_type": "stream",
          "name": "stdout",
          "text": [
            "Point(2, 3)\n",
            "Point(4, 5)\n",
            "Point(6, 8)\n"
          ]
        }
      ]
    },
    {
      "cell_type": "markdown",
      "source": [
        "12. Create a decorator that measures and prints the execution time of a function."
      ],
      "metadata": {
        "id": "8eYeUjNJwzjP"
      }
    },
    {
      "cell_type": "code",
      "source": [
        "import time\n",
        "\n",
        "def execution_time_decorator(func):\n",
        "    def wrapper(*args, **kwargs):\n",
        "        start_time = time.time()  # Start time\n",
        "        result = func(*args, **kwargs)  # Call the function\n",
        "        end_time = time.time()  # End time\n",
        "        execution_time = end_time - start_time  # Calculate execution time\n",
        "        print(f\"Execution time of {func.__name__}: {execution_time:.4f} seconds\")\n",
        "        return result  # Return the result of the function\n",
        "    return wrapper\n",
        "\n",
        "# Example usage\n",
        "@execution_time_decorator\n",
        "def sample_function(n):\n",
        "    total = 0\n",
        "    for i in range(n):\n",
        "        total += i\n",
        "    return total\n",
        "\n",
        "# Calling the decorated function\n",
        "result = sample_function(1000000)\n",
        "print(f\"Result: {result}\")\n"
      ],
      "metadata": {
        "colab": {
          "base_uri": "https://localhost:8080/"
        },
        "id": "Nnhij9nxwz7s",
        "outputId": "c0dff423-b1f6-4d0f-b63b-2814d5d1aeff"
      },
      "execution_count": null,
      "outputs": [
        {
          "output_type": "stream",
          "name": "stdout",
          "text": [
            "Execution time of sample_function: 0.0694 seconds\n",
            "Result: 499999500000\n"
          ]
        }
      ]
    },
    {
      "cell_type": "markdown",
      "source": [
        "14. Write a class method that keeps track of the number of instances created from a class."
      ],
      "metadata": {
        "id": "EJsA6_Gbw4j_"
      }
    },
    {
      "cell_type": "code",
      "source": [
        "class InstanceCounter:\n",
        "    instance_count = 0  # Class variable to keep track of the number of instances\n",
        "\n",
        "    def __init__(self):\n",
        "        InstanceCounter.instance_count += 1  # Increment the count each time an instance is created\n",
        "\n",
        "    @classmethod\n",
        "    def get_instance_count(cls):\n",
        "        return cls.instance_count  # Class method to return the current instance count\n",
        "\n",
        "# Example usage\n",
        "obj1 = InstanceCounter()\n",
        "obj2 = InstanceCounter()\n",
        "obj3 = InstanceCounter()\n",
        "\n",
        "print(f\"Number of instances created: {InstanceCounter.get_instance_count()}\")\n"
      ],
      "metadata": {
        "colab": {
          "base_uri": "https://localhost:8080/"
        },
        "id": "vsStachOw1ga",
        "outputId": "7aa2aae4-0245-4e9c-bbdc-a97ad30289ed"
      },
      "execution_count": null,
      "outputs": [
        {
          "output_type": "stream",
          "name": "stdout",
          "text": [
            "Number of instances created: 3\n"
          ]
        }
      ]
    },
    {
      "cell_type": "markdown",
      "source": [
        "15. Implement a static method in a class that checks if a given year is a leap year."
      ],
      "metadata": {
        "id": "cLotTo4UxA79"
      }
    },
    {
      "cell_type": "code",
      "source": [
        "class YearUtils:\n",
        "    @staticmethod\n",
        "    def is_leap_year(year):\n",
        "        \"\"\"Check if the given year is a leap year.\"\"\"\n",
        "        if (year % 4 == 0 and year % 100 != 0) or (year % 400 == 0):\n",
        "            return True\n",
        "        else:\n",
        "            return False\n",
        "\n",
        "year = int(input(\"Enter a year: \"))\n",
        "if YearUtils.is_leap_year(year):\n",
        "    print(f\"{year} is a leap year.\")\n",
        "else:\n",
        "    print(f\"{year} is not a leap year.\")"
      ],
      "metadata": {
        "colab": {
          "base_uri": "https://localhost:8080/"
        },
        "id": "Q7n8HIMdw-Gi",
        "outputId": "4564a199-9a42-4a4c-e301-0734565aaf62"
      },
      "execution_count": null,
      "outputs": [
        {
          "output_type": "stream",
          "name": "stdout",
          "text": [
            "Enter a year: 2024\n",
            "2024 is a leap year.\n"
          ]
        }
      ]
    }
  ]
}